{
 "cells": [
  {
   "cell_type": "code",
   "execution_count": 69,
   "metadata": {},
   "outputs": [
    {
     "data": {
      "text/plain": [
       "<module 'aoc' from 'c:\\\\Users\\\\MichaelIhde\\\\Git\\\\advent-of-code-2023\\\\aoc.py'>"
      ]
     },
     "execution_count": 69,
     "metadata": {},
     "output_type": "execute_result"
    }
   ],
   "source": [
    "import importlib\n",
    "\n",
    "import ipytest\n",
    "ipytest.autoconfig()\n",
    "\n",
    "import aoc\n",
    "importlib.reload(aoc)"
   ]
  },
  {
   "cell_type": "code",
   "execution_count": 57,
   "metadata": {},
   "outputs": [
    {
     "name": "stdout",
     "output_type": "stream",
     "text": [
      ".\n"
     ]
    }
   ],
   "source": [
    "g = aoc.InfiniteGrid(default='.')\n",
    "print(g)"
   ]
  },
  {
   "cell_type": "code",
   "execution_count": 80,
   "metadata": {},
   "outputs": [
    {
     "name": "stdout",
     "output_type": "stream",
     "text": [
      "\u001b[32m.\u001b[0m\u001b[32m                                                                                            [100%]\u001b[0m\n",
      "\u001b[32m\u001b[32m\u001b[1m1 passed\u001b[0m\u001b[32m in 0.01s\u001b[0m\u001b[0m\n"
     ]
    }
   ],
   "source": [
    "%%ipytest\n",
    "importlib.reload(aoc)\n",
    "\n",
    "def test_merge_intervals():\n",
    "    assert aoc.merge_intervals([]) == []\n",
    "    assert aoc.merge_intervals([(0,0)]) == [(0,0)]\n",
    "    assert aoc.merge_intervals([(0,0), (1,1)]) == [(0,0), (1,1)]\n",
    "    assert aoc.merge_intervals([(0,3), (2,4)]) == [(0,4)]\n",
    "    assert aoc.merge_intervals([(0,3), (3,4)]) == [(0,4)]\n",
    "    assert aoc.merge_intervals([(0,3), (2,4), (5,10)]) == [(0,4), (5,10)]"
   ]
  },
  {
   "cell_type": "code",
   "execution_count": 94,
   "metadata": {},
   "outputs": [
    {
     "name": "stdout",
     "output_type": "stream",
     "text": [
      "\u001b[32m.\u001b[0m\u001b[32m                                                                                            [100%]\u001b[0m\n",
      "\u001b[32m\u001b[32m\u001b[1m1 passed\u001b[0m\u001b[32m in 0.01s\u001b[0m\u001b[0m\n"
     ]
    }
   ],
   "source": [
    "%%ipytest\n",
    "importlib.reload(aoc)\n",
    "\n",
    "def test_split_intervals():\n",
    "    # No overlap lower\n",
    "    assert aoc.split_intervals((5,10), (20, 43)) == ( (5,10), None, None )\n",
    "    # No overlap upper\n",
    "    assert aoc.split_intervals((50,60), (20, 43)) == ( None, None, (50,60) )\n",
    "    # Full overlap\n",
    "    assert aoc.split_intervals((10,60), (20, 43)) == ( (10,19), (20,43), (44,60) )\n",
    "    # Partial overlap lower\n",
    "    assert aoc.split_intervals((10,25), (20, 43)) == ( (10,19), (20,25), None )\n",
    "    # Partial overlap upper\n",
    "    assert aoc.split_intervals((35,60), (20, 43)) == ( None, (35,43), (44,60) )\n"
   ]
  },
  {
   "cell_type": "code",
   "execution_count": 103,
   "metadata": {},
   "outputs": [
    {
     "name": "stdout",
     "output_type": "stream",
     "text": [
      "\u001b[32m.\u001b[0m\u001b[32m                                                                                            [100%]\u001b[0m\n",
      "\u001b[32m\u001b[32m\u001b[1m1 passed\u001b[0m\u001b[32m in 0.01s\u001b[0m\u001b[0m\n"
     ]
    }
   ],
   "source": [
    "%%ipytest\n",
    "importlib.reload(aoc)\n",
    "\n",
    "def test_appendable_pop_iter():\n",
    "    a_list = [1,2,3]\n",
    "\n",
    "    tmp = []\n",
    "    for value in aoc.appendable_pop_iter(a_list):\n",
    "        if value <= 2:\n",
    "            a_list.append(value+1)\n",
    "        tmp.append(value)\n",
    "    assert tmp == [1,2,3,2,3,3]\n",
    "    assert a_list == []"
   ]
  },
  {
   "cell_type": "code",
   "execution_count": 104,
   "metadata": {},
   "outputs": [
    {
     "name": "stdout",
     "output_type": "stream",
     "text": [
      "\u001b[32m.\u001b[0m\u001b[32m                                                                                            [100%]\u001b[0m\n",
      "\u001b[32m\u001b[32m\u001b[1m1 passed\u001b[0m\u001b[32m in 0.01s\u001b[0m\u001b[0m\n"
     ]
    }
   ],
   "source": [
    "%%ipytest\n",
    "importlib.reload(aoc)\n",
    "\n",
    "def test_appendable_iter():\n",
    "    a_list = [1,2,3]\n",
    "\n",
    "    tmp = []\n",
    "    for value in aoc.appendable_iter(a_list):\n",
    "        if value <= 2:\n",
    "            a_list.append(value+1)\n",
    "        tmp.append(value)\n",
    "    assert tmp == [1,2,3,2,3,3]\n",
    "    assert a_list == [1,2,3,2,3,3]"
   ]
  }
 ],
 "metadata": {
  "kernelspec": {
   "display_name": "Python 3",
   "language": "python",
   "name": "python3"
  },
  "language_info": {
   "codemirror_mode": {
    "name": "ipython",
    "version": 3
   },
   "file_extension": ".py",
   "mimetype": "text/x-python",
   "name": "python",
   "nbconvert_exporter": "python",
   "pygments_lexer": "ipython3",
   "version": "3.11.6"
  }
 },
 "nbformat": 4,
 "nbformat_minor": 2
}
